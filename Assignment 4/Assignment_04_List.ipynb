{
 "cells": [
  {
   "cell_type": "markdown",
   "id": "5d29d3ad",
   "metadata": {},
   "source": [
    "1. Write a program that accepts a list from user and print the alternate element of list."
   ]
  },
  {
   "cell_type": "code",
   "execution_count": null,
   "id": "0ffc8e4f",
   "metadata": {},
   "outputs": [],
   "source": [
    "user_input = input(\"Enter elements of the list separated by spaces: \")\n",
    "updated_list = user_input.split()\n",
    "print(\"Alternate elements:\", updated_list[::2])"
   ]
  },
  {
   "cell_type": "markdown",
   "id": "1659924d",
   "metadata": {},
   "source": [
    "2. Write a program that accepts a list from user. Your program should reverse the content of list and display it. Do not use reverse() method."
   ]
  },
  {
   "cell_type": "code",
   "execution_count": null,
   "id": "287e1b24",
   "metadata": {},
   "outputs": [],
   "source": [
    "user_input2 = input(\"Enter elements of the list separated by spaces: \")\n",
    "updated_list2 = user_input2.split()\n",
    "print(\"Reverse elements:\", updated_list2[::-1])"
   ]
  },
  {
   "cell_type": "markdown",
   "id": "3551b02b",
   "metadata": {},
   "source": [
    "3. Find and display the largest number of a list without using built-in function max(). Your program should ask the user to input values in list from keyboard."
   ]
  },
  {
   "cell_type": "code",
   "execution_count": null,
   "id": "e2aa6608",
   "metadata": {},
   "outputs": [],
   "source": [
    "user_input3 = input(\"Enter any number: \")\n",
    "updated_list3 = user_input3.split()\n",
    "compare = int(user_input3[0])\n",
    "for temp3 in updated_list3:\n",
    "    temp3 = int(temp3)\n",
    "    if compare < temp3:\n",
    "        compare = temp3\n",
    "print(compare)"
   ]
  },
  {
   "cell_type": "markdown",
   "id": "2d5533dd",
   "metadata": {},
   "source": [
    "4. Write a program that rotates the element of a list so that the element at the first index moves to the second index, the element in the second index moves to the third index, etc., and the element in the last index moves to the first index."
   ]
  },
  {
   "cell_type": "code",
   "execution_count": null,
   "id": "99277975",
   "metadata": {},
   "outputs": [],
   "source": [
    "user_input4 = [1, 2, 3, 4, 5]\n",
    "rotated_list = [user_input4[-1]] + user_input4[:-1]\n",
    "print(rotated_list)"
   ]
  },
  {
   "cell_type": "markdown",
   "id": "8ae0240a",
   "metadata": {},
   "source": [
    "5. Write a program that input a string and ask user to delete a given word from a string."
   ]
  },
  {
   "cell_type": "code",
   "execution_count": null,
   "id": "b3c2920c",
   "metadata": {},
   "outputs": [],
   "source": [
    "user_input5 = input(\"Enter any string: \")\n",
    "user_input5_1 = input('Delete this word from string')\n",
    "updated_string = user_input5.replace(user_input5_1, \"\")\n",
    "print(\"Updated string:\", updated_string.strip())"
   ]
  },
  {
   "cell_type": "markdown",
   "id": "340ee67b",
   "metadata": {},
   "source": [
    "6. Write a program that reads a string from the user containing a date in the form mm/dd/yyyy. It should print the date in the form March 12, 2021."
   ]
  },
  {
   "cell_type": "code",
   "execution_count": null,
   "id": "1c8f95e9",
   "metadata": {},
   "outputs": [],
   "source": [
    "user_input6 = input(\"Enter any data in this format mm/dd/yyyy: \")\n",
    "month, day, year = user_input6.split(\"/\")\n",
    "months = [\n",
    "    \"January\", \"February\", \"March\", \"April\", \"May\", \"June\",\n",
    "    \"July\", \"August\", \"September\", \"October\", \"November\", \"December\"\n",
    "]\n",
    "month_name = months[int(month) - 1]\n",
    "print(f\"{month_name} {int(day)}, {year}\")"
   ]
  },
  {
   "cell_type": "markdown",
   "id": "6afc215f",
   "metadata": {},
   "source": [
    "7. Write a program with a function that accepts a string from keyboard and create a new string after converting character of each word capitalized. For instance, if the sentence is 'stop and smell the roses.' the output should be 'Stop And Smell The Roses'"
   ]
  },
  {
   "cell_type": "code",
   "execution_count": null,
   "id": "187aa999",
   "metadata": {},
   "outputs": [],
   "source": [
    "user_input7 = input(\"Enter a sentence: \")\n",
    "updated_user_input7 = user_input7.title()\n",
    "print(\"Converted string:\", updated_user_input7)"
   ]
  },
  {
   "cell_type": "markdown",
   "id": "e9d24092",
   "metadata": {},
   "source": [
    "8. Find the sum of each row of matrix of size m x n. For example for the following matrix output will be like this:\n",
    "\n",
    "Sum of row 1 = 32\n",
    "Sum of row 2 = 31\n",
    "Sum of row 3 = 63"
   ]
  },
  {
   "cell_type": "code",
   "execution_count": null,
   "id": "b7a63121",
   "metadata": {},
   "outputs": [],
   "source": [
    "\n",
    "m = int(input(\"Enter number of rows: \"))\n",
    "matrix = []\n",
    "for i in range(m):\n",
    "    row = input(f\"Enter elements of row {i+1} separated by spaces: \").split()\n",
    "    row = [int(x) for x in row]\n",
    "    matrix.append(row)\n",
    "    print(f\"Sum of row {i+1} = {sum(row)}\")"
   ]
  },
  {
   "cell_type": "markdown",
   "id": "57edc756",
   "metadata": {},
   "source": [
    "9. Write a program to add two matrices of size n x m."
   ]
  },
  {
   "cell_type": "code",
   "execution_count": null,
   "id": "bbbf872c",
   "metadata": {},
   "outputs": [],
   "source": [
    "m2 = int(input(\"Enter number of rows: \"))\n",
    "n2 = int(input(\"Enter number of columns: \"))\n",
    "matrix1 = []\n",
    "matrix2 = []\n",
    "print(\"Enter first matrix:\")\n",
    "for i in range(m2):\n",
    "    row = list(map(int, input().split()))\n",
    "    matrix1.append(row)\n",
    "print(\"Enter second matrix:\")\n",
    "for i in range(m2):\n",
    "    row = list(map(int, input().split()))\n",
    "    matrix2.append(row)\n",
    "print(\"\\nResultant Matrix:\")\n",
    "for i in range(m2):\n",
    "    row = []\n",
    "    for j in range(n2):\n",
    "        row.append(matrix1[i][j] + matrix2[i][j])\n",
    "    print(row)"
   ]
  },
  {
   "cell_type": "markdown",
   "id": "81f9b826",
   "metadata": {},
   "source": [
    "10. Write a program to multiply two matrices."
   ]
  },
  {
   "cell_type": "code",
   "execution_count": null,
   "id": "c66f054e",
   "metadata": {},
   "outputs": [],
   "source": [
    "print(\"Enter first 2x2 matrix:\")\n",
    "a11, a12 = map(int, input().split())\n",
    "a21, a22 = map(int, input().split())\n",
    "\n",
    "print(\"Enter second 2x2 matrix:\")\n",
    "b11, b12 = map(int, input().split())\n",
    "b21, b22 = map(int, input().split())\n",
    "\n",
    "c11 = a11*b11 + a12*b21\n",
    "c12 = a11*b12 + a12*b22\n",
    "c21 = a21*b11 + a22*b21\n",
    "c22 = a21*b12 + a22*b22\n",
    "\n",
    "print(\"\\nResultant Matrix:\")\n",
    "print(c11, c12)\n",
    "print(c21, c22)\n"
   ]
  }
 ],
 "metadata": {
  "kernelspec": {
   "display_name": "Python 3",
   "language": "python",
   "name": "python3"
  },
  "language_info": {
   "codemirror_mode": {
    "name": "ipython",
    "version": 3
   },
   "file_extension": ".py",
   "mimetype": "text/x-python",
   "name": "python",
   "nbconvert_exporter": "python",
   "pygments_lexer": "ipython3",
   "version": "3.13.6"
  }
 },
 "nbformat": 4,
 "nbformat_minor": 5
}
