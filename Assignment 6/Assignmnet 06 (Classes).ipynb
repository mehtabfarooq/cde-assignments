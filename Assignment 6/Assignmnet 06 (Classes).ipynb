{
  "cells": [
    {
      "cell_type": "markdown",
      "metadata": {
        "id": "XLFr4w_7OFN7"
      },
      "source": [
        "1. Write a Python program to create a class representing a Circle. Include methods to calculate its area and perimeter."
      ]
    },
    {
      "cell_type": "code",
      "execution_count": null,
      "metadata": {},
      "outputs": [],
      "source": [
        "class Shapes:\n",
        "    def __init__(self, radius):\n",
        "        self.radius = radius\n",
        "        \n",
        "    def calculateAreaPerimeter(self):\n",
        "        radius = self.radius\n",
        "        area = 3.14159 * radius**2\n",
        "        perimeter = 2 * 3.14159 * radius\n",
        "        print(f\"Area of circle is {area}, and perimeter of circle is {perimeter}\")\n",
        "\n",
        "invokeShapes = Shapes(20)\n",
        "invokeShapes.calculateAreaPerimeter()"
      ]
    },
    {
      "cell_type": "markdown",
      "metadata": {
        "id": "CBPk4mH4OTCO"
      },
      "source": [
        "2. Write a Python program to create a person class. Include attributes like name, country and date of birth. Implement a method to determine the person's age.\n"
      ]
    },
    {
      "cell_type": "code",
      "execution_count": 48,
      "metadata": {},
      "outputs": [
        {
          "name": "stdout",
          "output_type": "stream",
          "text": [
            "31\n",
            "Person name is Ali, he is from Pakistan, and age is 31 years\n"
          ]
        }
      ],
      "source": [
        "from datetime import date\n",
        "class Persons:\n",
        "    def __init__(self, name, country, dob):\n",
        "        self.name = name\n",
        "        self.country = country\n",
        "        self.dob = dob\n",
        "        \n",
        "    def calculateAge(self):\n",
        "        today = str(date.today())\n",
        "        dob = self.dob\n",
        "        dobYear, dobMonth, dobDate = dob.split(\"-\")\n",
        "        currentYear, currentMonth, currentDate = today.split(\"-\")\n",
        "        currentAgeYear = int(currentYear) - int(dobYear)\n",
        "        \"\"\" currentAgeMonth = int(currentMonth) - int(dobMonth)\n",
        "        currentAgeDay = int(currentDate) - int(dobDate)\n",
        "        if currentAgeMonth < 0 or currentAgeDay < 0:\n",
        "            currentAgeYear -= 1\n",
        "        \n",
        "        if currentAgeMonth == 0:\n",
        "            currentAgeMonth = 12\n",
        "        elif currentAgeMonth < 0:\n",
        "            currentAgeMonth = 12 - abs(currentAgeMonth)\n",
        "            \n",
        "        if currentAgeDay < 0:\n",
        "            currentAgeDay = 30 - abs(currentAgeDay) \"\"\"\n",
        "        print(currentAgeYear)\n",
        "        print(f\"Person name is {self.name}, he is from {self.country}, and age is {currentAgeYear} years\")\n",
        "\n",
        "invokePerson = Persons(\"Ali\", \"Pakistan\", \"1994-12-30\")\n",
        "invokePerson.calculateAge()"
      ]
    },
    {
      "cell_type": "markdown",
      "metadata": {},
      "source": [
        "3. Write a Python program to create a calculator class. Include methods for basic arithmetic operations."
      ]
    },
    {
      "cell_type": "code",
      "execution_count": 15,
      "metadata": {},
      "outputs": [
        {
          "name": "stdout",
          "output_type": "stream",
          "text": [
            "Sum of 20 + 10 = 30\n",
            "substraction of 20 - 10 = 10\n",
            "Multiplication of 20 * 10 = 200\n",
            "Division of 20 / 10 = 2.0\n"
          ]
        }
      ],
      "source": [
        "class Calculator:\n",
        "    def __init__(self, num1, num2):\n",
        "        self.num1 = int(num1)\n",
        "        self.num2 = int(num2)\n",
        "        \n",
        "    def add(self):\n",
        "        addition = self.num1 + self.num2\n",
        "        print(f\"Sum of {self.num1} + {self.num2} = {addition}\")\n",
        "        \n",
        "    def substraction(self):\n",
        "        substraction = self.num1 - self.num2\n",
        "        print(f\"substraction of {self.num1} - {self.num2} = {substraction}\")\n",
        "        \n",
        "    def multiplication(self):\n",
        "        multiplication = self.num1 * self.num2\n",
        "        print(f\"Multiplication of {self.num1} * {self.num2} = {multiplication}\")\n",
        "        \n",
        "    def division(self):\n",
        "        division = self.num1 / self.num2\n",
        "        print(f\"Division of {self.num1} / {self.num2} = {division}\")\n",
        "        \n",
        "invokeCalculator = Calculator(20, 10)\n",
        "invokeCalculator.add()\n",
        "invokeCalculator.substraction()\n",
        "invokeCalculator.multiplication()\n",
        "invokeCalculator.division()"
      ]
    },
    {
      "cell_type": "code",
      "execution_count": null,
      "metadata": {},
      "outputs": [],
      "source": []
    }
  ],
  "metadata": {
    "colab": {
      "provenance": []
    },
    "kernelspec": {
      "display_name": "Python 3",
      "name": "python3"
    },
    "language_info": {
      "codemirror_mode": {
        "name": "ipython",
        "version": 3
      },
      "file_extension": ".py",
      "mimetype": "text/x-python",
      "name": "python",
      "nbconvert_exporter": "python",
      "pygments_lexer": "ipython3",
      "version": "3.13.7"
    }
  },
  "nbformat": 4,
  "nbformat_minor": 0
}
