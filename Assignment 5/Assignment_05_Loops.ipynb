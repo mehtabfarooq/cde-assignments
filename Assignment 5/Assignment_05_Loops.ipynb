{
 "cells": [
  {
   "cell_type": "markdown",
   "id": "a0704b1c",
   "metadata": {},
   "source": [
    "1. Write a Python program to print the numbers from 1 to 10 using a for loop."
   ]
  },
  {
   "cell_type": "code",
   "execution_count": null,
   "id": "cd9d63f4",
   "metadata": {},
   "outputs": [],
   "source": [
    "for i in range(10):\n",
    "    i = i+1\n",
    "    print(i)"
   ]
  },
  {
   "cell_type": "markdown",
   "id": "492315e3",
   "metadata": {},
   "source": [
    "2. Write a Python program to print the numbers from 20 to 1 using a while loop."
   ]
  },
  {
   "cell_type": "code",
   "execution_count": null,
   "id": "fc8d27a9",
   "metadata": {},
   "outputs": [],
   "source": [
    "max = 20\n",
    "while max >= 1:\n",
    "    print(max)\n",
    "    max -= 1"
   ]
  },
  {
   "cell_type": "markdown",
   "id": "c98308fa",
   "metadata": {},
   "source": [
    "3. Write a program to print even numbers from 1 to 10."
   ]
  },
  {
   "cell_type": "code",
   "execution_count": null,
   "id": "e2028a72",
   "metadata": {},
   "outputs": [],
   "source": [
    "for even in range(11):\n",
    "    if even % 2 == 0:\n",
    "        print(even)"
   ]
  },
  {
   "cell_type": "markdown",
   "id": "eed08230",
   "metadata": {},
   "source": [
    "4. Write a program that prompts the user to enter a number n and prints all the numbers from 1 to n."
   ]
  },
  {
   "cell_type": "code",
   "execution_count": null,
   "id": "4fc09b62",
   "metadata": {},
   "outputs": [],
   "source": [
    "userNum = int(input('Enter any number'))\n",
    "for userIn in range(userNum):\n",
    "    userIn+=1\n",
    "    print(userIn) "
   ]
  },
  {
   "cell_type": "markdown",
   "id": "d1a447fc",
   "metadata": {},
   "source": [
    "5. Write a program that prompts the user to enter a number n, and then prints all the odd numbers between 1 and n."
   ]
  },
  {
   "cell_type": "code",
   "execution_count": null,
   "id": "1b20173b",
   "metadata": {},
   "outputs": [],
   "source": [
    "userNum2 = int(input('Enter any number'))\n",
    "for userIn2 in range(userNum):\n",
    "    userIn2 += 1\n",
    "    if not userIn2 % 2 == 0:\n",
    "        print(userIn2) "
   ]
  },
  {
   "cell_type": "markdown",
   "id": "d48be018",
   "metadata": {},
   "source": [
    "6. Write a program that prints 'Happy Birthday!' five times on screen."
   ]
  },
  {
   "cell_type": "code",
   "execution_count": null,
   "id": "70e9f13d",
   "metadata": {},
   "outputs": [],
   "source": [
    "for userIn3 in range(5):\n",
    "    print(\"Happy Birthaday!\") "
   ]
  },
  {
   "cell_type": "markdown",
   "id": "022f6a74",
   "metadata": {},
   "source": [
    "7. Write a program that takes a number n as input from the user and generates the first n terms of the series formed by squaring the natural numbers.\n",
    "\n",
    "Sample output:\n",
    "Enter a number: 6\n",
    "The first 6 terms of the series are:\n",
    "1 4 9 16 25 36"
   ]
  },
  {
   "cell_type": "code",
   "execution_count": null,
   "id": "4bf7ce43",
   "metadata": {},
   "outputs": [],
   "source": [
    "userNumber = int(input('Enter any number: '))\n",
    "print(f\"The first {userNumber} squared are: \")\n",
    "for temp in range(userNumber):\n",
    "    print(f'The first {userNumber} terms of the series are: {(temp+1)**2}')"
   ]
  },
  {
   "cell_type": "markdown",
   "id": "5158e8b0",
   "metadata": {},
   "source": [
    "8. Write a program that prompts the user to input a number and prints its multiplication table."
   ]
  },
  {
   "cell_type": "code",
   "execution_count": null,
   "id": "3ade1170",
   "metadata": {},
   "outputs": [],
   "source": [
    "tableOf = int(input('Which table: '))\n",
    "tableupto = int(input('table upto: '))\n",
    "for temp2 in range(tableupto):\n",
    "    print(f\"{tableOf} * {temp2 + 1} = {tableOf * (temp2+1)}\")"
   ]
  },
  {
   "cell_type": "markdown",
   "id": "b5f6033a",
   "metadata": {},
   "source": [
    "9. Write a Python program to print the first 8 terms of an arithmetic progression starting with 3 and having a common difference of 4.\n",
    "The program should output the following sequence:\n",
    "3 7 11 15 19 23 27 31"
   ]
  },
  {
   "cell_type": "code",
   "execution_count": null,
   "id": "27b5ee08",
   "metadata": {},
   "outputs": [],
   "source": [
    "prog = 3\n",
    "for temp3 in range(8):\n",
    "    print(prog)\n",
    "    prog += 4"
   ]
  },
  {
   "cell_type": "markdown",
   "id": "327cf85a",
   "metadata": {},
   "source": [
    "10. Write a Python program to print the first 6 terms of a geometric sequence starting with 2 and having a common ratio of 3.\n",
    "The program should output the following sequence:\n",
    "2 6 18 54 162 486"
   ]
  },
  {
   "cell_type": "code",
   "execution_count": null,
   "id": "6bb2ff37",
   "metadata": {},
   "outputs": [],
   "source": [
    "prog2 = 2\n",
    "for temp3 in range(6):\n",
    "    print(prog2)\n",
    "    prog2 *= 3"
   ]
  },
  {
   "cell_type": "markdown",
   "id": "cb68e9c0",
   "metadata": {},
   "source": [
    "11. Write a program that asks the user for a positive integer value. The program should calculate the sum of all the integers from 1 up to the number entered. For example, if the user enters 20, the loop will find the sum of 1, 2, 3, 4, ... 20."
   ]
  },
  {
   "cell_type": "code",
   "execution_count": null,
   "id": "a0512172",
   "metadata": {},
   "outputs": [],
   "source": [
    "prog4 = int(input('Enter Positive integer:'))\n",
    "integerSum = 0\n",
    "for temp4 in range(prog4+1):\n",
    "    integerSum = integerSum + temp4\n",
    "print(integerSum)\n",
    "    "
   ]
  },
  {
   "cell_type": "markdown",
   "id": "c77bd428",
   "metadata": {},
   "source": [
    "12. Write a program that takes a positive integer N as input and calculates the sum of the reciprocals of all numbers from 1 up to N. The program should display the final sum.\n",
    "\n",
    "Sample output:\n",
    "Enter a positive integer: 5\n",
    "The sum of reciprocals from 1 to 5 is: 2.28"
   ]
  },
  {
   "cell_type": "code",
   "execution_count": null,
   "id": "ba3894e2",
   "metadata": {},
   "outputs": [],
   "source": [
    "prog5 = int(input('Enter Positive integer:'))\n",
    "recipSum = 0\n",
    "for temp5 in range(1, prog5+1):\n",
    "    recipSum += 1 / temp5\n",
    "print(f\"The sum of reciprocals from 1 to {prog5} is: {recipSum:.2f}\")"
   ]
  },
  {
   "cell_type": "markdown",
   "id": "4c821592",
   "metadata": {},
   "source": [
    "13. Write a program that prompts the user to enter a number and repeats this process 5 times. The program should accumulate the numbers entered and then display the final running total.\n",
    "\n",
    "Sample Output:\n",
    "Enter a number: 10\n",
    "Enter a number: 15\n",
    "Enter a number: 35\n",
    "Enter a number: 40\n",
    "Enter a number: 50\n",
    "The final running total is: 150"
   ]
  },
  {
   "cell_type": "code",
   "execution_count": null,
   "id": "0af18623",
   "metadata": {},
   "outputs": [],
   "source": [
    "baseVal = 0\n",
    "for temp6 in range(5):\n",
    "    temp6 = int(input('Enter a number: '))\n",
    "    baseVal += temp6\n",
    "print(f'The final running total is: {baseVal}')"
   ]
  },
  {
   "cell_type": "markdown",
   "id": "1f0b86f5",
   "metadata": {},
   "source": [
    "14. Write a program that prompts the user to enter a positive integer and calculates its factorial. The factorial of a positive integer 'n' is denoted as 'n!' and is calculated by multiplying all the integers from 1 to 'n' together.\n",
    "\n",
    "The program should display the factorial value if the input is a positive number, or display a message stating that the factorial does not exist for negative numbers. Additionally, for an input of zero, the program should output that the factorial of 0 is 1."
   ]
  },
  {
   "cell_type": "code",
   "execution_count": null,
   "id": "90a0dc54",
   "metadata": {},
   "outputs": [],
   "source": [
    "prog7 = int(input('Enter Positive integer:'))\n",
    "baseFact = 1\n",
    "if prog7 < 0:\n",
    "    print('factorial does not exist for negative numbers')\n",
    "elif prog7 == 0:\n",
    "    print('factorial of 0 is 1')\n",
    "else:\n",
    "    for temp7 in range(1, prog7+1):\n",
    "        baseFact = baseFact * temp7\n",
    "    print(baseFact)"
   ]
  },
  {
   "cell_type": "markdown",
   "id": "12e086a1",
   "metadata": {},
   "source": [
    "15. Write a Python program that prompts the user to enter a base number and an exponent, and then calculates the power of the base to the exponent. The program should not use the exponentiation operator (**) or the math.pow() function. The program should handle both positive and negative exponents."
   ]
  },
  {
   "cell_type": "code",
   "execution_count": null,
   "id": "aed7f567",
   "metadata": {},
   "outputs": [],
   "source": [
    "base = float(input(\"Enter base number: \"))\n",
    "exp = int(input(\"Enter exponent: \"))\n",
    "result = 1\n",
    "if exp > 0:\n",
    "    for _ in range(exp):\n",
    "        result *= base\n",
    "elif exp < 0:\n",
    "    for _ in range(-exp):\n",
    "        result *= base\n",
    "    result = 1 / result\n",
    "else:\n",
    "    result = 1\n",
    "print(f\"{base} raised to the power {exp} is: {result}\")"
   ]
  }
 ],
 "metadata": {
  "kernelspec": {
   "display_name": "Python 3",
   "language": "python",
   "name": "python3"
  },
  "language_info": {
   "codemirror_mode": {
    "name": "ipython",
    "version": 3
   },
   "file_extension": ".py",
   "mimetype": "text/x-python",
   "name": "python",
   "nbconvert_exporter": "python",
   "pygments_lexer": "ipython3",
   "version": "3.13.6"
  }
 },
 "nbformat": 4,
 "nbformat_minor": 5
}
