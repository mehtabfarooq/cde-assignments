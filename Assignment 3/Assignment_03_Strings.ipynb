{
 "cells": [
  {
   "cell_type": "markdown",
   "id": "da5f5a78",
   "metadata": {},
   "source": [
    "1. Write a program that accepts a string from user. Your program should count and display number of vowels in that string."
   ]
  },
  {
   "cell_type": "code",
   "execution_count": null,
   "id": "b6cd4bba",
   "metadata": {},
   "outputs": [],
   "source": [
    "user_string = input('Enter any string')\n",
    "vowels = [\"a\", \"e\", \"i\", \"o\", \"u\"]\n",
    "for letter in vowels:\n",
    "    print(f'{letter}: {user_string.count(letter)}')"
   ]
  },
  {
   "cell_type": "markdown",
   "id": "68549d17",
   "metadata": {},
   "source": [
    "2. Write a program that reads a string from keyboard and display:\n",
    "* The number of uppercase letters in the string\n",
    "* The number of lowercase letters in the string\n",
    "* The number of digits in the string\n",
    "* The number of whitespace characters in the string"
   ]
  },
  {
   "cell_type": "code",
   "execution_count": null,
   "id": "98984c0c",
   "metadata": {},
   "outputs": [],
   "source": [
    "user_string2 =  input('Enter any string')\n",
    "upperCase = 0\n",
    "lowerCase = 0\n",
    "isNumber = 0\n",
    "whiteSpace = 0\n",
    "for char in user_string2:\n",
    "    if char.isupper():\n",
    "        upperCase += 1\n",
    "    elif char.islower():\n",
    "        lowerCase += 1\n",
    "    elif char.isdigit():\n",
    "        isNumber += 1\n",
    "    elif char.isspace():\n",
    "        whiteSpace += 1\n",
    "print(f'Total uppercase letters: {upperCase} ,\\n Total lowercase letters: {lowerCase},\\n Total digits: {isNumber} ,\\n Total whitespaces {whiteSpace}')  \n",
    "        "
   ]
  },
  {
   "cell_type": "markdown",
   "id": "8278fae1",
   "metadata": {},
   "source": [
    "3. Write a Python program that accepts a string from user. Your program should create and display a new string where the first and last characters have been exchanged.\n",
    "\n",
    "For example if the user enters the string 'HELLO' then new string would be 'OELLH'"
   ]
  },
  {
   "cell_type": "code",
   "execution_count": null,
   "id": "641aecc2",
   "metadata": {},
   "outputs": [],
   "source": [
    "user_string3 =  input('Enter any string')\n",
    "new_string = user_string3[-1] + user_string3[1:-1] + user_string3[0]\n",
    "print(new_string)"
   ]
  },
  {
   "cell_type": "markdown",
   "id": "6c70e25d",
   "metadata": {},
   "source": [
    "4. Write a Python program that accepts a string from user. Your program should create a new string in reverse of first string and display it.\n",
    "\n",
    "For example if the user enters the string 'EXAM' then new string would be 'MAXE'"
   ]
  },
  {
   "cell_type": "code",
   "execution_count": null,
   "id": "33c6dac1",
   "metadata": {},
   "outputs": [],
   "source": [
    "user_string4 =  input('Enter any string')\n",
    "print(user_string4[::-1])"
   ]
  },
  {
   "cell_type": "markdown",
   "id": "8243f677",
   "metadata": {},
   "source": [
    "5. Write a Python program that accepts a string from user. Your program should create a new string by shifting one position to left.\n",
    "\n",
    "For example if the user enters the string 'examination 2021' then new string would be 'xamination 2021e'"
   ]
  },
  {
   "cell_type": "code",
   "execution_count": null,
   "id": "ffcdc5d0",
   "metadata": {},
   "outputs": [],
   "source": [
    "user_string5 =  input('Enter any string')\n",
    "print(user_string5[1::]+user_string5[0])"
   ]
  },
  {
   "cell_type": "markdown",
   "id": "b0528108",
   "metadata": {},
   "source": [
    "6. Write a program that asks the user to input his name and print its initials. Assuming that the user always types first name, middle name and last name and does not include any unnecessary spaces.\n",
    "\n",
    "For example, if the user enters Ajay Kumar Garg the program should display A. K. G.\n",
    "\n",
    "Note: Don't use split() method"
   ]
  },
  {
   "cell_type": "code",
   "execution_count": null,
   "id": "bd1aaf67",
   "metadata": {},
   "outputs": [],
   "source": [
    "user_string6 = input(\"Enter your name \").strip()\n",
    "first_initial = user_string6[0]\n",
    "first_space = user_string6.index(\" \")\n",
    "middle_initial = user_string6[first_space + 1]\n",
    "second_space = user_string6.index(\" \", first_space + 1)\n",
    "last_initial = user_string6[second_space + 1]\n",
    "initials = first_initial.upper() + \". \" + middle_initial.upper() + \". \" + last_initial.upper() + \".\"\n",
    "print(\"Initials:\", initials)\n"
   ]
  },
  {
   "cell_type": "markdown",
   "id": "5f7cd239",
   "metadata": {},
   "source": [
    "7. A palindrome is a string that reads the same backward as forward. For example, the words dad, madam and radar are all palindromes. Write a program that determines whether the string is a palindrome.\n",
    "\n",
    "Note: do not use reverse() method"
   ]
  },
  {
   "cell_type": "code",
   "execution_count": null,
   "id": "a6099f22",
   "metadata": {},
   "outputs": [],
   "source": [
    "user_string7 = input(\"Enter any string: \")\n",
    "user_string7 = user_string7.lower()\n",
    "reverse_string = ''\n",
    "for char in user_string7:\n",
    "    reverse_string = char + reverse_string\n",
    "if user_string7 == reverse_string:\n",
    "    print('Its a palindrom')\n",
    "else:\n",
    "    print('Its not a palindrom')"
   ]
  },
  {
   "cell_type": "markdown",
   "id": "c2a2aa92",
   "metadata": {},
   "source": [
    "8. Write a program that display following output:\n",
    "SHIFT\n",
    "HIFTS\n",
    "IFTSH\n",
    "FTSHI\n",
    "TSHIF\n",
    "SHIFT"
   ]
  },
  {
   "cell_type": "code",
   "execution_count": null,
   "id": "b9f68200",
   "metadata": {},
   "outputs": [],
   "source": [
    "user_string8 = input(\"Enter any string: \")\n",
    "for shift in range(len(user_string8) + 1):\n",
    "    print(user_string8)\n",
    "    user_string8 = user_string8[1::]+user_string8[0]"
   ]
  },
  {
   "cell_type": "markdown",
   "id": "bfea713f",
   "metadata": {},
   "source": [
    "9. Write a program in python that accepts a string to setup a password. Your entered password must meet the following requirements:\n",
    "\n",
    "- The password must be at least eight characters long.\n",
    "- It must contain at least one uppercase letter.\n",
    "- It must contain at least one lowercase letter.\n",
    "- It must contain at least one numeric digit.\n",
    "\n",
    "Your program should perform this validation."
   ]
  },
  {
   "cell_type": "code",
   "execution_count": null,
   "id": "ef93e8b9",
   "metadata": {},
   "outputs": [],
   "source": [
    "password = input(\"Enter any password: \")\n",
    "has_uppercase = has_lowercase = has_digit = False\n",
    "for key in password:\n",
    "    if key.isupper():\n",
    "        has_uppercase = True\n",
    "    elif key.islower():\n",
    "        has_lowercase = True\n",
    "    elif key.isdigit:\n",
    "        has_digit = True\n",
    "    if has_uppercase and has_lowercase and has_digit:\n",
    "        break\n",
    "\n",
    "if len(password) < 8:\n",
    "    print(\"Password must be atleast 8 characters long\")\n",
    "elif not has_uppercase:\n",
    "    print(\"Password must contain one uppercase letter\")\n",
    "elif not has_lowercase:\n",
    "    print(\"Password must contain one lowercase letter\")\n",
    "elif not has_digit:\n",
    "    print(\"Password must be atleast is number/digit\")\n",
    "else:\n",
    "    print(\"Password set successfully\")            \n",
    "#"
   ]
  }
 ],
 "metadata": {
  "kernelspec": {
   "display_name": "Python 3",
   "language": "python",
   "name": "python3"
  },
  "language_info": {
   "codemirror_mode": {
    "name": "ipython",
    "version": 3
   },
   "file_extension": ".py",
   "mimetype": "text/x-python",
   "name": "python",
   "nbconvert_exporter": "python",
   "pygments_lexer": "ipython3",
   "version": "3.13.6"
  }
 },
 "nbformat": 4,
 "nbformat_minor": 5
}
