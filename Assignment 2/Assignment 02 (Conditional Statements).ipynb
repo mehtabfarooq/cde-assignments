{
 "cells": [
  {
   "cell_type": "markdown",
   "metadata": {},
   "source": [
    "1) A company decided to give bonus of 5% to employee if his/her year of service is more than 5 years.\n",
    "Ask user for their salary and year of service and print the net bonus amount."
   ]
  },
  {
   "cell_type": "code",
   "execution_count": null,
   "metadata": {},
   "outputs": [],
   "source": [
    "emp_sal = int(input('Whats your salaray: '))\n",
    "emp_servive = int(input('Your employment duration until now: '))\n",
    "if emp_servive > 5:\n",
    "    bonus_amount = emp_sal * 0.05\n",
    "    print(f'Your net bonus amount is {bonus_amount}')\n",
    "else:\n",
    "    print(f'Your are only eligible for 2% raise')"
   ]
  },
  {
   "cell_type": "markdown",
   "metadata": {},
   "source": [
    "\n",
    "2) Write a program to check whether a person is eligible for voting or not. (accept age from user) if age is greater than 17 eligible otherwise not eligible"
   ]
  },
  {
   "cell_type": "code",
   "execution_count": null,
   "metadata": {},
   "outputs": [],
   "source": [
    "voter_age = int(input('Whats your age: '))\n",
    "if voter_age > 17:\n",
    "    print('You are eligible for voting')\n",
    "else:\n",
    "    print('You are not eligible for voting')"
   ]
  },
  {
   "cell_type": "markdown",
   "metadata": {},
   "source": [
    "\n",
    "3) Write a program to check whether a number entered by user is even or odd."
   ]
  },
  {
   "cell_type": "code",
   "execution_count": null,
   "metadata": {},
   "outputs": [],
   "source": [
    "user_number = int(input('Enter any number: '))\n",
    "if user_number % 2 == 0:\n",
    "    print(\"User number is Even\")\n",
    "else:\n",
    "    print(\"User number is Odd\")"
   ]
  },
  {
   "cell_type": "markdown",
   "metadata": {},
   "source": [
    "4) Write a program to check whether a number is divisible by 7 or not.\n",
    "Show Answer"
   ]
  },
  {
   "cell_type": "code",
   "execution_count": null,
   "metadata": {},
   "outputs": [],
   "source": [
    "input_number = int(input(\"Enter any number: \"))\n",
    "if input_number % 7 == 0:\n",
    "    print(\"The number is divisible by 7.\")\n",
    "else:\n",
    "    print(\"The number is not divisible by 7.\")"
   ]
  },
  {
   "cell_type": "markdown",
   "metadata": {},
   "source": [
    "5) Write a program to display \n",
    "\"Hello\" if a number entered by user is a multiple of five , otherwise print \"Bye\"."
   ]
  },
  {
   "cell_type": "code",
   "execution_count": null,
   "metadata": {},
   "outputs": [],
   "source": [
    "input_number = int(input(\"Enter any number: \"))\n",
    "if input_number % 5 == 0:\n",
    "    print(\"Hello\")\n",
    "else:\n",
    "    print(\"Bye\")"
   ]
  },
  {
   "cell_type": "markdown",
   "metadata": {},
   "source": [
    "7) Write a program to display the last digit of a number.\n"
   ]
  },
  {
   "cell_type": "code",
   "execution_count": null,
   "metadata": {},
   "outputs": [],
   "source": [
    "input_number = input(\"Enter any number: \")\n",
    "print(input_number[-1])"
   ]
  },
  {
   "cell_type": "markdown",
   "metadata": {},
   "source": [
    "9) Take values of length and breadth of a rectangle from user and print if it is square or rectangle."
   ]
  },
  {
   "cell_type": "code",
   "execution_count": null,
   "metadata": {},
   "outputs": [],
   "source": [
    "length = int(input('Enter length: '))\n",
    "breadth = int(input('Enter breadth: '))\n",
    "if length == breadth:\n",
    "    print('SQUARE')\n",
    "else:\n",
    "    print('RECTANGLE')    \n",
    "    "
   ]
  },
  {
   "cell_type": "markdown",
   "metadata": {},
   "source": [
    "10) Take two int values from user and print greatest among them."
   ]
  },
  {
   "cell_type": "code",
   "execution_count": null,
   "metadata": {},
   "outputs": [],
   "source": [
    "x = int(input('Enter any number: '))\n",
    "y = int(input('Enter any number: '))\n",
    "if x > y:\n",
    "    print(f'1st number is larger {x}')\n",
    "elif y > x:\n",
    "    print(f'2nd number is larger {y}')\n",
    "else:\n",
    "    print('Both numbers are same')"
   ]
  },
  {
   "cell_type": "markdown",
   "metadata": {},
   "source": [
    "11) A shop will give discount of 10% if the cost of purchased quantity is more than 1000.\n",
    "Ask user for quantity\n",
    "Suppose, one unit will cost 100.\n",
    "Judge and print total cost for user."
   ]
  },
  {
   "cell_type": "code",
   "execution_count": null,
   "metadata": {},
   "outputs": [],
   "source": [
    "quantity = int(input('Units quantity: '))\n",
    "unit_cost = 100\n",
    "total_cost = quantity * unit_cost\n",
    "if total_cost > 1000:\n",
    "    discount_cost = total_cost * 0.10\n",
    "    print(f'Your total was {total_cost}, you received 10% dicount, now your bill is {total_cost - discount_cost}')"
   ]
  },
  {
   "cell_type": "markdown",
   "metadata": {},
   "source": [
    "12) A school has following rules for grading system:\n",
    "\n",
    "a. Below 25 - F\n",
    "\n",
    "b. 25 to 45 - E\n",
    "\n",
    "c. 45 to 50 - D\n",
    "\n",
    "d. 50 to 60 - C\n",
    "\n",
    "e. 60 to 80 - B\n",
    "\n",
    "f. Above 80 - A\n",
    "\n",
    "Ask user to enter marks and print the corresponding grade."
   ]
  },
  {
   "cell_type": "code",
   "execution_count": null,
   "metadata": {},
   "outputs": [],
   "source": [
    "marks = int(input('marks: '))\n",
    "if marks >= 0 and marks < 25:\n",
    "    print('Grade F')\n",
    "elif marks >=25 and marks < 45:\n",
    "    print('Grade E')\n",
    "elif marks >=45 and marks < 50:\n",
    "    print('Grade D')\n",
    "elif marks >=50 and marks < 60:\n",
    "    print('Grade C')\n",
    "elif marks >=60 and marks <= 80:\n",
    "    print('Grade B')\n",
    "elif marks >80 and marks <= 100:\n",
    "    print('Grade A')\n",
    "elif marks < 0 or marks > 100:\n",
    "    print('Put correct marks')"
   ]
  },
  {
   "cell_type": "markdown",
   "metadata": {},
   "source": [
    "14)A student will not be allowed to sit in exam if his/her attendence is less than 75%.\n",
    "\n",
    "Take following input from user\n",
    "\n",
    "Number of classes held\n",
    "\n",
    "Number of classes attended.\n",
    "\n",
    "And print\n",
    "\n",
    "percentage of class attended\n",
    "\n",
    "Is student is allowed to sit in exam or not.\n"
   ]
  },
  {
   "cell_type": "code",
   "execution_count": null,
   "metadata": {},
   "outputs": [],
   "source": [
    "no_of_classes = int(input('Number of classes: '))\n",
    "attended_classes = int(input('Attended classes: '))\n",
    "attendance_percentage = (attended_classes / no_of_classes) * 100\n",
    "if attendance_percentage > 75:\n",
    "    print(f'You attended {attendance_percentage}% of classes, and you are allowed to sit in exams')\n",
    "else:\n",
    "    print(f'You attended only {attendance_percentage}% of classes, and you are NOT allowed to sit in exams')"
   ]
  },
  {
   "cell_type": "markdown",
   "metadata": {},
   "source": [
    "15) Modify the above question to allow student to sit if he/she has medical cause. Ask user if he/she has medical cause or not ( 'Y' or 'N' ) and print accordingly."
   ]
  },
  {
   "cell_type": "code",
   "execution_count": null,
   "metadata": {},
   "outputs": [],
   "source": [
    "no_of_classes = int(input('Number of classes: '))\n",
    "attended_classes = int(input('Attended classes: '))\n",
    "medical_cause = input('Did you had any medical issue Y or N:')\n",
    "attendance_percentage = (attended_classes / no_of_classes) * 100\n",
    "if attendance_percentage > 75:\n",
    "    print(f'You attended {attendance_percentage}% of classes, and you are allowed to sit in exams')\n",
    "else:\n",
    "    if medical_cause == 'Y' or medical_cause == 'y':\n",
    "        print(f'You attended {attendance_percentage}% of classes, and you are allowed to sit in exams due to medical condition')\n",
    "    else:    \n",
    "        print(f'You attended only {attendance_percentage}% of classes, and you are NOT allowed to sit in exams')"
   ]
  },
  {
   "cell_type": "markdown",
   "metadata": {},
   "source": [
    "16) Write a program to check if a year is leap year or not.\n",
    "\n",
    "If a year is divisible by 4 then it is leap year but if the year is century year like 2000, 1900, 2100 then it must be divisible by 400."
   ]
  },
  {
   "cell_type": "code",
   "execution_count": null,
   "metadata": {},
   "outputs": [],
   "source": [
    "year = int(input(\"Enter a year: \"))\n",
    "if year % 4 == 0:\n",
    "    if year % 100 == 0:\n",
    "        if year % 400 == 0:\n",
    "            print(f\"{year} is a Leap Year.\")\n",
    "        else:\n",
    "            print(f\"{year} is Not a Leap Year.\")\n",
    "    else:\n",
    "        print(f\"{year} is a Leap Year.\")\n",
    "else:\n",
    "    print(f\"{year} is Not a Leap Year.\")"
   ]
  },
  {
   "cell_type": "markdown",
   "metadata": {},
   "source": [
    "17) Ask user to enter age, gender ( M or F ), marital status ( Y or N ) and then using following rules print their place of service.\n",
    "\n",
    "if employee is female, then she will work only in urban areas.\n",
    "\n",
    "if employee is a male and age is in between 20 to 40 then he may work in anywhere\n",
    "\n",
    "if employee is male and age is in between 40 t0 60 then he will work in urban areas only.\n",
    "\n",
    "And any other input of age should print \"ERROR\""
   ]
  },
  {
   "cell_type": "code",
   "execution_count": null,
   "metadata": {},
   "outputs": [],
   "source": [
    "gendar = input(\"Gendar (M or F): \")\n",
    "marital_status = input(\"Marital Status (Y or N): \")\n",
    "age = int(input(\"Enter your age: \"))\n",
    "if gendar == 'F' or gendar == 'f':\n",
    "    print('You will work in urban areas')\n",
    "elif gendar == 'M' or gendar == 'm':\n",
    "    if age >=20 and age <=40:\n",
    "        print('You can work anywhere')\n",
    "    elif age >40 and age <=50:\n",
    "        print('You will work in urban areas')\n",
    "    else:\n",
    "        print('ERROR')"
   ]
  },
  {
   "cell_type": "markdown",
   "metadata": {},
   "source": [
    "6) Write a program to calculate the electricity bill (accept number of unit from user) according to the following criteria :\n",
    "     Unit                                                     Price  \n",
    "uptp 100 units                                             no charge\n",
    "Next 200 units                                              Rs 5 per unit\n",
    "After 200 units                                             Rs 10 per unit\n",
    "(For example if input unit is 350 than total bill amount is Rs.3500\n",
    "(For example if input unit is 97 than total bill amount is Rs.0\n",
    "(For example if input unit is 150 than total bill amount is Rs.750"
   ]
  },
  {
   "cell_type": "code",
   "execution_count": null,
   "metadata": {},
   "outputs": [],
   "source": [
    "units = int(input('Enter your electricity units: '))\n",
    "if units <= 100:\n",
    "    print(f'Your bill is 0, as your unit are only {units}')\n",
    "elif units>100 and units <= 200:\n",
    "    print(f'Your bill is {units * 5}, as your unit are {units}')\n",
    "elif units>200:\n",
    "    print(f'Your bill is {units * 100}, as your unit are {units}')    \n",
    "    "
   ]
  },
  {
   "cell_type": "markdown",
   "metadata": {},
   "source": [
    "13) Take input of age of 3 people by user and determine oldest and youngest among them."
   ]
  },
  {
   "cell_type": "code",
   "execution_count": null,
   "metadata": {},
   "outputs": [],
   "source": [
    "age1 = int(input(\"Enter age of person 1: \"))\n",
    "age2 = int(input(\"Enter age of person 2: \"))\n",
    "age3 = int(input(\"Enter age of person 3: \"))\n",
    "oldest = max(age1, age2, age3)\n",
    "youngest = min(age1, age2, age3)\n",
    "\n",
    "print(f\"The oldest age is: {oldest}\")\n",
    "print(f\"The youngest age is: {youngest}\")"
   ]
  }
 ],
 "metadata": {
  "kernelspec": {
   "display_name": "Python 3",
   "language": "python",
   "name": "python3"
  },
  "language_info": {
   "codemirror_mode": {
    "name": "ipython",
    "version": 3
   },
   "file_extension": ".py",
   "mimetype": "text/x-python",
   "name": "python",
   "nbconvert_exporter": "python",
   "pygments_lexer": "ipython3",
   "version": "3.13.6"
  }
 },
 "nbformat": 4,
 "nbformat_minor": 2
}
